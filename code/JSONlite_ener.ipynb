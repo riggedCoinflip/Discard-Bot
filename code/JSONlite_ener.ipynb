{
 "cells": [
  {
   "cell_type": "code",
   "execution_count": 1,
   "metadata": {},
   "outputs": [],
   "source": [
    "'''Modifies JSON-Files to remove everything unused'''\n",
    "import json\n",
    "\n",
    "'''Core'''\n",
    "path = r'E:\\Coinflip\\Documents\\Programmieren\\LOR Card Bot\\source\\core-en_us\\en_us\\data\\globals-en_us.json' #relative path of core bundle, containing keywords, factions, spellspeeds and rarities\n",
    "with open (path) as f:\n",
    "    core = json.load(f)\n",
    "\n",
    "'''Keywords'''    \n",
    "'remove nameRef from Keywords'\n",
    "for keyword in core['keywords']:\n",
    "    del keyword['nameRef']\n",
    "    keyword['displayed_name'] = keyword['name']\n",
    "    keyword['name'] = keyword['name'].replace(\" \", \"\").lower()\n",
    "\n",
    "'save modified Keywords to new File'\n",
    "path = r'E:\\Coinflip\\Documents\\Programmieren\\LOR Card Bot\\source\\custom\\keywords_new.json'\n",
    "with open(path, 'w') as f:\n",
    "    json.dump(core['keywords'], f, indent=2, )"
   ]
  },
  {
   "cell_type": "code",
   "execution_count": 4,
   "metadata": {},
   "outputs": [],
   "source": [
    "import json\n",
    "\n",
    "path_cards = r'E:\\Coinflip\\Documents\\Programmieren\\LOR Card Bot\\source\\set1-full-en_us\\en_us\\data\\set1-en_us.json'\n",
    "with open (path_cards, encoding='utf8') as f:\n",
    "    cards = json.load(f)\n",
    "\n",
    "path_emotes = r'E:\\Coinflip\\Documents\\Programmieren\\LOR Card Bot\\source\\custom\\emojis.json'\n",
    "with open (path_emotes, encoding='utf8') as f:\n",
    "    emotes = json.load(f)    \n",
    "    \n",
    "path_images = r'E:\\Coinflip\\Documents\\Programmieren\\LOR Card Bot\\source\\set1-full-en_us\\en_us\\img'\n",
    "\n",
    "for card in cards:\n",
    "    '''update paths'''\n",
    "    card['cardCode'] = path_images + '\\\\' + card['cardCode'] \n",
    "    for i, elem in enumerate(card['associatedCardRefs']):\n",
    "        card['associatedCardRefs'][i] = path_images + '\\\\' + elem\n",
    "\n",
    "    '''replace keywords with emotes'''\n",
    "    card['displayed_region'] = card['regionRef']\n",
    "    card['displayed_region'] = card['displayed_region'].lower()    \n",
    "    if card['displayed_region'].lower() in emotes: card['displayed_region'] = emotes[card['displayed_region'].lower()]    \n",
    "    \n",
    "    card['displayed_keywords'] = card['keywordRefs']\n",
    "    for i, elem in enumerate(card['displayed_keywords']):\n",
    "        elem = elem.replace(\"QuickStrike\", \"QuickAttack\")\n",
    "        if elem.lower() in emotes: card['displayed_keywords'][i] = emotes[elem.lower()]\n",
    "   \n",
    "    for i, elem in enumerate(card['keywordRefs']):\n",
    "        if elem.lower() in emotes: card['keywordRefs'][i] = emotes[elem.lower()]\n",
    "    if card['type'].lower() in emotes: card['type'] = emotes[card['type'].lower()]\n",
    "    if card['rarity'].lower() in emotes: card['rarity'] = emotes[card['rarity'].lower()]\n",
    "    if card['spellSpeed'].lower() in emotes: card['spellSpeed'] = emotes[card['spellSpeed'].lower()]\n",
    "            \n",
    "    card['displayed_name'] = card['name']\n",
    "    card['name'] = card['name'].replace(\" \", \"\").replace(\"'\", \"\").replace(\"!\", \"\").replace(\"?\", \"\").lower()\n",
    "    \n",
    "    #Add a + behind levelupped Champions to make them distinguishable\n",
    "    if card['supertype'] == \"Champion\" and not card['levelupDescriptionRaw']:\n",
    "        card['name'] = card['name'] + \"+\"\n",
    "    \n",
    "    \n",
    "    \n",
    "    \n",
    "'save modified Keywords to new File'\n",
    "path = r'E:\\Coinflip\\Documents\\Programmieren\\LOR Card Bot\\source\\custom\\cards.json'\n",
    "with open(path, 'w') as f:\n",
    "    json.dump(cards, f, indent=2, sort_keys=True,)"
   ]
  },
  {
   "cell_type": "code",
   "execution_count": 36,
   "metadata": {
    "collapsed": true,
    "jupyter": {
     "outputs_hidden": true
    }
   },
   "outputs": [
    {
     "ename": "FileNotFoundError",
     "evalue": "[Errno 2] No such file or directory: 'E:\\\\Coinflip\\\\Documents\\\\Programmieren\\\\LOR Card Bot\\\\source\\\\custom\\\\emoji_nameids.json'",
     "output_type": "error",
     "traceback": [
      "\u001b[1;31m---------------------------------------------------------------------------\u001b[0m",
      "\u001b[1;31mFileNotFoundError\u001b[0m                         Traceback (most recent call last)",
      "\u001b[1;32m<ipython-input-36-779f81393ef2>\u001b[0m in \u001b[0;36m<module>\u001b[1;34m\u001b[0m\n\u001b[0;32m      3\u001b[0m \u001b[1;33m\u001b[0m\u001b[0m\n\u001b[0;32m      4\u001b[0m \u001b[0mpath\u001b[0m \u001b[1;33m=\u001b[0m  \u001b[1;34mr'E:\\Coinflip\\Documents\\Programmieren\\LOR Card Bot\\source\\custom\\emoji_nameids.json'\u001b[0m\u001b[1;33m\u001b[0m\u001b[1;33m\u001b[0m\u001b[0m\n\u001b[1;32m----> 5\u001b[1;33m \u001b[1;32mwith\u001b[0m \u001b[0mopen\u001b[0m \u001b[1;33m(\u001b[0m\u001b[0mpath\u001b[0m\u001b[1;33m)\u001b[0m \u001b[1;32mas\u001b[0m \u001b[0mf\u001b[0m\u001b[1;33m:\u001b[0m\u001b[1;33m\u001b[0m\u001b[1;33m\u001b[0m\u001b[0m\n\u001b[0m\u001b[0;32m      6\u001b[0m     \u001b[0memojis\u001b[0m \u001b[1;33m=\u001b[0m \u001b[0mjson\u001b[0m\u001b[1;33m.\u001b[0m\u001b[0mload\u001b[0m\u001b[1;33m(\u001b[0m\u001b[0mf\u001b[0m\u001b[1;33m)\u001b[0m\u001b[1;33m\u001b[0m\u001b[1;33m\u001b[0m\u001b[0m\n\u001b[0;32m      7\u001b[0m \u001b[0memoji_dict\u001b[0m \u001b[1;33m=\u001b[0m \u001b[1;33m{\u001b[0m\u001b[1;33m}\u001b[0m\u001b[1;33m\u001b[0m\u001b[1;33m\u001b[0m\u001b[0m\n",
      "\u001b[1;31mFileNotFoundError\u001b[0m: [Errno 2] No such file or directory: 'E:\\\\Coinflip\\\\Documents\\\\Programmieren\\\\LOR Card Bot\\\\source\\\\custom\\\\emoji_nameids.json'"
     ]
    }
   ],
   "source": [
    "import json\n",
    "import re\n",
    "\n",
    "path =  r'E:\\Coinflip\\Documents\\Programmieren\\LOR Card Bot\\source\\custom\\emoji_nameids.json'\n",
    "with open (path) as f:\n",
    "    emojis = json.load(f)\n",
    "emoji_dict = {}\n",
    "\n",
    "pattern = re.compile(r':.*:')  #:...:\n",
    "for emoji in emojis:\n",
    "    match = pattern.search(emoji['nameid']).group()[1:-1] #cut :...:\n",
    "    emoji_dict[match] = emoji['nameid']\n",
    "#print (emoji_dict)\n",
    "    \n",
    "path = r'E:\\Coinflip\\Documents\\Programmieren\\LOR Card Bot\\source\\custom\\emojis.json'\n",
    "with open(path, 'w') as f:\n",
    "    json.dump(emoji_dict, f, indent=2)\n",
    "    \n",
    "print('done')"
   ]
  },
  {
   "cell_type": "code",
   "execution_count": null,
   "metadata": {},
   "outputs": [],
   "source": []
  }
 ],
 "metadata": {
  "kernelspec": {
   "display_name": "Python 3",
   "language": "python",
   "name": "python3"
  },
  "language_info": {
   "codemirror_mode": {
    "name": "ipython",
    "version": 3
   },
   "file_extension": ".py",
   "mimetype": "text/x-python",
   "name": "python",
   "nbconvert_exporter": "python",
   "pygments_lexer": "ipython3",
   "version": "3.7.4"
  }
 },
 "nbformat": 4,
 "nbformat_minor": 4
}
