{
 "cells": [
  {
   "cell_type": "markdown",
   "metadata": {},
   "source": [
    "# fetch_emojis Discord Bot\n",
    "### by riggedCoinflip\n",
    "\n",
    "## raw Command Below\n",
    "\n",
    "Copyright: Do whatever you want with the Code. I would like it if you mention me.\n",
    "\n",
    "This Bot uses the Guild.emojis as described in:\n",
    "https://discordpy.readthedocs.io/en/latest/api.html#guild.emojis <br>\n",
    "to create a JSON-File containing these keywords as:\n",
    "<blockquote>\n",
    "    { <br>\n",
    "    &emsp;    \"emoji.name\" = \"str(emoji)\",  <br>\n",
    "    &emsp;    . <br>\n",
    "    &emsp;    . <br>\n",
    "    &emsp;    . <br>\n",
    "    } <br>\n",
    "</blockquote>\n",
    "\n",
    "with str(emoji) containing name and id.\n",
    "\n",
    "for example:\n",
    "<blockquote>\n",
    "    { <br>\n",
    "    &emsp;    \"foo\" = \"&lt:foo:123456789012345678&gt\", <br>\n",
    "    &emsp;    \"bar\" = \"&lt:bar:987654321098765432&gt\", <br>\n",
    "    &emsp;    \"ack\" = \"&lt:ack:2582012840158349683&gt\", <br>\n",
    "    &emsp;    \"wibble\" = \"&lt:wibble:287394871261947134&gt\" <br>\n",
    "    } <br>\n",
    "</blockquote>\n",
    "\n",
    "Attention: This overwrites a (probably) existing file in path.\n",
    "\n",
    "To use the Bot, follow the instructions on https://discordpy.readthedocs.io/en/latest/discord.html\n",
    "and replace Token in the last line (bot.run('Token')) with your generated Token.\n",
    "\n",
    "Change the Path Variable to where you want your File saved.\n",
    "Then write !emojis_json in your Server to fetch the emotes."
   ]
  },
  {
   "cell_type": "code",
   "execution_count": 3,
   "metadata": {},
   "outputs": [
    {
     "name": "stdout",
     "output_type": "stream",
     "text": [
      "Requirement already satisfied: nest_asyncio in d:\\programs\\ides\\anaconda\\lib\\site-packages (1.2.3)\n",
      "Requirement already satisfied: discord.py in d:\\programs\\ides\\anaconda\\lib\\site-packages (1.3.2)\n",
      "Requirement already satisfied: aiohttp<3.7.0,>=3.6.0 in d:\\programs\\ides\\anaconda\\lib\\site-packages (from discord.py) (3.6.2)\n",
      "Requirement already satisfied: websockets!=7.0,!=8.0,!=8.0.1,<9.0,>=6.0 in d:\\programs\\ides\\anaconda\\lib\\site-packages (from discord.py) (8.1)\n",
      "Requirement already satisfied: async-timeout<4.0,>=3.0 in d:\\programs\\ides\\anaconda\\lib\\site-packages (from aiohttp<3.7.0,>=3.6.0->discord.py) (3.0.1)\n",
      "Requirement already satisfied: yarl<2.0,>=1.0 in d:\\programs\\ides\\anaconda\\lib\\site-packages (from aiohttp<3.7.0,>=3.6.0->discord.py) (1.4.2)\n",
      "Requirement already satisfied: attrs>=17.3.0 in d:\\programs\\ides\\anaconda\\lib\\site-packages (from aiohttp<3.7.0,>=3.6.0->discord.py) (19.2.0)\n",
      "Requirement already satisfied: multidict<5.0,>=4.5 in d:\\programs\\ides\\anaconda\\lib\\site-packages (from aiohttp<3.7.0,>=3.6.0->discord.py) (4.7.5)\n",
      "Requirement already satisfied: chardet<4.0,>=2.0 in d:\\programs\\ides\\anaconda\\lib\\site-packages (from aiohttp<3.7.0,>=3.6.0->discord.py) (3.0.4)\n",
      "Requirement already satisfied: idna>=2.0 in d:\\programs\\ides\\anaconda\\lib\\site-packages (from yarl<2.0,>=1.0->aiohttp<3.7.0,>=3.6.0->discord.py) (2.8)\n"
     ]
    },
    {
     "ename": "RuntimeError",
     "evalue": "Cannot close a running event loop",
     "output_type": "error",
     "traceback": [
      "\u001b[1;31m---------------------------------------------------------------------------\u001b[0m",
      "\u001b[1;31mRuntimeError\u001b[0m                              Traceback (most recent call last)",
      "\u001b[1;32m<ipython-input-3-3bf294b8e8ad>\u001b[0m in \u001b[0;36m<module>\u001b[1;34m\u001b[0m\n\u001b[0;32m     29\u001b[0m         \u001b[1;32mawait\u001b[0m \u001b[0mctx\u001b[0m\u001b[1;33m.\u001b[0m\u001b[0msend\u001b[0m\u001b[1;33m(\u001b[0m\u001b[1;34m'Fetching Emojis.....Done!'\u001b[0m\u001b[1;33m)\u001b[0m\u001b[1;33m\u001b[0m\u001b[1;33m\u001b[0m\u001b[0m\n\u001b[0;32m     30\u001b[0m \u001b[1;33m\u001b[0m\u001b[0m\n\u001b[1;32m---> 31\u001b[1;33m \u001b[0mbot\u001b[0m\u001b[1;33m.\u001b[0m\u001b[0mrun\u001b[0m\u001b[1;33m(\u001b[0m\u001b[1;34m'Token'\u001b[0m\u001b[1;33m)\u001b[0m\u001b[1;33m\u001b[0m\u001b[1;33m\u001b[0m\u001b[0m\n\u001b[0m",
      "\u001b[1;32mD:\\Programs\\IDEs\\Anaconda\\lib\\site-packages\\discord\\client.py\u001b[0m in \u001b[0;36mrun\u001b[1;34m(self, *args, **kwargs)\u001b[0m\n\u001b[0;32m    635\u001b[0m             \u001b[0mfuture\u001b[0m\u001b[1;33m.\u001b[0m\u001b[0mremove_done_callback\u001b[0m\u001b[1;33m(\u001b[0m\u001b[0mstop_loop_on_completion\u001b[0m\u001b[1;33m)\u001b[0m\u001b[1;33m\u001b[0m\u001b[1;33m\u001b[0m\u001b[0m\n\u001b[0;32m    636\u001b[0m             \u001b[0mlog\u001b[0m\u001b[1;33m.\u001b[0m\u001b[0minfo\u001b[0m\u001b[1;33m(\u001b[0m\u001b[1;34m'Cleaning up tasks.'\u001b[0m\u001b[1;33m)\u001b[0m\u001b[1;33m\u001b[0m\u001b[1;33m\u001b[0m\u001b[0m\n\u001b[1;32m--> 637\u001b[1;33m             \u001b[0m_cleanup_loop\u001b[0m\u001b[1;33m(\u001b[0m\u001b[0mloop\u001b[0m\u001b[1;33m)\u001b[0m\u001b[1;33m\u001b[0m\u001b[1;33m\u001b[0m\u001b[0m\n\u001b[0m\u001b[0;32m    638\u001b[0m \u001b[1;33m\u001b[0m\u001b[0m\n\u001b[0;32m    639\u001b[0m         \u001b[1;32mif\u001b[0m \u001b[1;32mnot\u001b[0m \u001b[0mfuture\u001b[0m\u001b[1;33m.\u001b[0m\u001b[0mcancelled\u001b[0m\u001b[1;33m(\u001b[0m\u001b[1;33m)\u001b[0m\u001b[1;33m:\u001b[0m\u001b[1;33m\u001b[0m\u001b[1;33m\u001b[0m\u001b[0m\n",
      "\u001b[1;32mD:\\Programs\\IDEs\\Anaconda\\lib\\site-packages\\discord\\client.py\u001b[0m in \u001b[0;36m_cleanup_loop\u001b[1;34m(loop)\u001b[0m\n\u001b[0;32m     95\u001b[0m     \u001b[1;32mfinally\u001b[0m\u001b[1;33m:\u001b[0m\u001b[1;33m\u001b[0m\u001b[1;33m\u001b[0m\u001b[0m\n\u001b[0;32m     96\u001b[0m         \u001b[0mlog\u001b[0m\u001b[1;33m.\u001b[0m\u001b[0minfo\u001b[0m\u001b[1;33m(\u001b[0m\u001b[1;34m'Closing the event loop.'\u001b[0m\u001b[1;33m)\u001b[0m\u001b[1;33m\u001b[0m\u001b[1;33m\u001b[0m\u001b[0m\n\u001b[1;32m---> 97\u001b[1;33m         \u001b[0mloop\u001b[0m\u001b[1;33m.\u001b[0m\u001b[0mclose\u001b[0m\u001b[1;33m(\u001b[0m\u001b[1;33m)\u001b[0m\u001b[1;33m\u001b[0m\u001b[1;33m\u001b[0m\u001b[0m\n\u001b[0m\u001b[0;32m     98\u001b[0m \u001b[1;33m\u001b[0m\u001b[0m\n\u001b[0;32m     99\u001b[0m \u001b[1;32mclass\u001b[0m \u001b[0m_ClientEventTask\u001b[0m\u001b[1;33m(\u001b[0m\u001b[0masyncio\u001b[0m\u001b[1;33m.\u001b[0m\u001b[0mTask\u001b[0m\u001b[1;33m)\u001b[0m\u001b[1;33m:\u001b[0m\u001b[1;33m\u001b[0m\u001b[1;33m\u001b[0m\u001b[0m\n",
      "\u001b[1;32mD:\\Programs\\IDEs\\Anaconda\\lib\\asyncio\\selector_events.py\u001b[0m in \u001b[0;36mclose\u001b[1;34m(self)\u001b[0m\n\u001b[0;32m     81\u001b[0m     \u001b[1;32mdef\u001b[0m \u001b[0mclose\u001b[0m\u001b[1;33m(\u001b[0m\u001b[0mself\u001b[0m\u001b[1;33m)\u001b[0m\u001b[1;33m:\u001b[0m\u001b[1;33m\u001b[0m\u001b[1;33m\u001b[0m\u001b[0m\n\u001b[0;32m     82\u001b[0m         \u001b[1;32mif\u001b[0m \u001b[0mself\u001b[0m\u001b[1;33m.\u001b[0m\u001b[0mis_running\u001b[0m\u001b[1;33m(\u001b[0m\u001b[1;33m)\u001b[0m\u001b[1;33m:\u001b[0m\u001b[1;33m\u001b[0m\u001b[1;33m\u001b[0m\u001b[0m\n\u001b[1;32m---> 83\u001b[1;33m             \u001b[1;32mraise\u001b[0m \u001b[0mRuntimeError\u001b[0m\u001b[1;33m(\u001b[0m\u001b[1;34m\"Cannot close a running event loop\"\u001b[0m\u001b[1;33m)\u001b[0m\u001b[1;33m\u001b[0m\u001b[1;33m\u001b[0m\u001b[0m\n\u001b[0m\u001b[0;32m     84\u001b[0m         \u001b[1;32mif\u001b[0m \u001b[0mself\u001b[0m\u001b[1;33m.\u001b[0m\u001b[0mis_closed\u001b[0m\u001b[1;33m(\u001b[0m\u001b[1;33m)\u001b[0m\u001b[1;33m:\u001b[0m\u001b[1;33m\u001b[0m\u001b[1;33m\u001b[0m\u001b[0m\n\u001b[0;32m     85\u001b[0m             \u001b[1;32mreturn\u001b[0m\u001b[1;33m\u001b[0m\u001b[1;33m\u001b[0m\u001b[0m\n",
      "\u001b[1;31mRuntimeError\u001b[0m: Cannot close a running event loop"
     ]
    }
   ],
   "source": [
    "!pip install nest_asyncio\n",
    "!pip install discord.py\n",
    "import nest_asyncio  #to allow nested event loop - else: RuntimeError: Cannot Close a running event loop\n",
    "nest_asyncio.apply()\n",
    "import discord\n",
    "from discord.ext import commands\n",
    "import json\n",
    "\n",
    "description = '''Exports all Emojis of the Server into a JSON file with: \"emoji.name\" = \"str(emoji)\"\"'''\n",
    "\n",
    "bot = commands.Bot(command_prefix='!', description=description)\n",
    "\n",
    "@bot.event\n",
    "async def on_ready():\n",
    "    print('Logged in as')\n",
    "    print(bot.user.name)\n",
    "    print(bot.user.id)\n",
    "    print('------')\n",
    "\n",
    "'''Exports all Emojis of the Server into a JSON file with: \"emoji.name\" = \"str(emoji)'''\n",
    "@bot.command()\n",
    "async def emojis_json(ctx):\n",
    "    emoji_dict = {emoji.name: str(emoji) for emoji in ctx.guild.emojis}  # fill dictionary with values\n",
    "        \n",
    "    path = r'C:\\folder\\emojis.json'\n",
    "    with open(path, 'w') as f:\n",
    "        json.dump(emoji_dict, f, sort_keys=True, indent=4)\n",
    "        print (\"Emojis exported to\", path)\n",
    "        await ctx.send('Fetching Emojis.....Done!')\n",
    "           \n",
    "bot.run('Token')"
   ]
  },
  {
   "cell_type": "markdown",
   "metadata": {},
   "source": [
    "# Raw Command"
   ]
  },
  {
   "cell_type": "code",
   "execution_count": null,
   "metadata": {},
   "outputs": [],
   "source": [
    "import json\n",
    "\n",
    "'''Exports all Emojis of the Server into a JSON file with: \"emoji.name\" = \"str(emoji)'''\n",
    "@bot.command()\n",
    "async def emojis_json(ctx):\n",
    "    emoji_dict = {emoji.name: str(emoji) for emoji in ctx.guild.emojis}  # fill dictionary with values\n",
    "        \n",
    "    path = r'C:\\folder\\emojis.json'\n",
    "    with open(path, 'w') as f:\n",
    "        json.dump(emoji_dict, f, sort_keys=True, indent=4)\n",
    "        print (\"Emojis exported to\", path)\n",
    "        await ctx.send('Fetching Emojis.....Done!')"
   ]
  },
  {
   "cell_type": "code",
   "execution_count": null,
   "metadata": {},
   "outputs": [],
   "source": []
  }
 ],
 "metadata": {
  "kernelspec": {
   "display_name": "Python 3",
   "language": "python",
   "name": "python3"
  },
  "language_info": {
   "codemirror_mode": {
    "name": "ipython",
    "version": 3
   },
   "file_extension": ".py",
   "mimetype": "text/x-python",
   "name": "python",
   "nbconvert_exporter": "python",
   "pygments_lexer": "ipython3",
   "version": "3.7.4"
  }
 },
 "nbformat": 4,
 "nbformat_minor": 4
}
