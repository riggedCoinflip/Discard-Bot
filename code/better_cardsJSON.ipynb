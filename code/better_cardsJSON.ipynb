{
 "cells": [
  {
   "cell_type": "code",
   "execution_count": 5,
   "metadata": {},
   "outputs": [],
   "source": [
    "import json\n",
    "import import_ipynb\n",
    "from normalize_string import normalize_string\n",
    "\n",
    "def cards_import(path_source, path_save):\n",
    "    with open (path_source, encoding='utf8') as f:\n",
    "        cards_old = json.load(f)\n",
    "        print(f\"Opened Cards Bundle from {path_source}\")\n",
    "    \n",
    "    lookup = {}\n",
    "    cards = {}\n",
    "    for card in cards_old:\n",
    "        if card['supertype'] == \"Champion\":\n",
    "            card['rarity'] = \"Champion\"\n",
    "            if not card['levelupDescriptionRaw']:\n",
    "                card['name'] = card['name'] + \"+\"\n",
    "        if card['rarity'] == \"None\": card['rarity'] = \"\"\n",
    "        d = {\n",
    "            'cardname' : card['name'],\n",
    "            'cost' : card['cost'],\n",
    "            'keywords' : card['keywords'],\n",
    "            'type' : card['type'],\n",
    "            'attack' : card['attack'],\n",
    "            'health' : card['health'],\n",
    "            'spellSpeed' : card['spellSpeed'],\n",
    "            'description' : card['descriptionRaw'],\n",
    "            'levelupDescription' : card['levelupDescriptionRaw'],\n",
    "            'region' : card['region'],\n",
    "            'rarity' : card['rarity'],\n",
    "            'supertype' : card['supertype'],\n",
    "            'subtype' : card['subtype'],\n",
    "            'collectible' : card['collectible'],\n",
    "            'cardCode' : card['cardCode']\n",
    "        }\n",
    "        '''\n",
    "        del card['artistName']\n",
    "        del card['assets']\n",
    "        del card['associatedCardRefs']\n",
    "        del card['associatedCards']\n",
    "        del card['cardCode']\n",
    "        del card['description']\n",
    "        del card['flavorText']\n",
    "        del card['keywordRefs']\n",
    "        del card['levelupDescription']\n",
    "        del card['rarityRef']\n",
    "        del card['regionRef']\n",
    "        del card['spellSpeedRef']\n",
    "        '''\n",
    "        cards[card['name']] = d \n",
    "        lookup[normalize_string(card['name'])] = card['name']\n",
    "    \n",
    "    #Sort Lookup and Cards, but not Keys in cards:\n",
    "    cards = dict(sorted(cards.items(), key=lambda x: x[0].lower()))\n",
    "    lookup = dict(sorted(lookup.items(), key=lambda x: x[0].lower()))\n",
    "    '''save modified Cards to new JSON File'''\n",
    "    #keywords and regions\n",
    "    cards_dict = {\n",
    "        \"cards\" : cards,\n",
    "        \"lookup\" : lookup\n",
    "    }\n",
    "    #print(cards_dict)\n",
    "    sub_path = r'\\cards.json'\n",
    "    with open(path_save + sub_path, 'w') as f:\n",
    "        json.dump(cards_dict, f, indent=4, sort_keys=False)\n",
    "        print(f\"Created File: {path_save + sub_path}\")\n"
   ]
  },
  {
   "cell_type": "code",
   "execution_count": 6,
   "metadata": {},
   "outputs": [
    {
     "name": "stdout",
     "output_type": "stream",
     "text": [
      "Opened Cards Bundle from E:\\Coinflip\\Documents\\Programmieren\\LOR Card Bot\\source\\set1-full-en_us\\en_us\\data\\set1-en_us.json\n",
      "Created File: E:\\Coinflip\\Documents\\Programmieren\\LOR Card Bot\\source\\custom\\cards.json\n"
     ]
    }
   ],
   "source": [
    "if __name__ == \"__main__\":\n",
    "    path_source = r'E:\\Coinflip\\Documents\\Programmieren\\LOR Card Bot\\source\\set1-full-en_us\\en_us\\data\\set1-en_us.json' #path your core bundle is located\n",
    "    path_save = r'E:\\Coinflip\\Documents\\Programmieren\\LOR Card Bot\\source\\custom'\n",
    "    cards_import(path_source, path_save)"
   ]
  },
  {
   "cell_type": "code",
   "execution_count": null,
   "metadata": {},
   "outputs": [],
   "source": []
  }
 ],
 "metadata": {
  "kernelspec": {
   "display_name": "Python 3",
   "language": "python",
   "name": "python3"
  },
  "language_info": {
   "codemirror_mode": {
    "name": "ipython",
    "version": 3
   },
   "file_extension": ".py",
   "mimetype": "text/x-python",
   "name": "python",
   "nbconvert_exporter": "python",
   "pygments_lexer": "ipython3",
   "version": "3.7.4"
  }
 },
 "nbformat": 4,
 "nbformat_minor": 4
}
